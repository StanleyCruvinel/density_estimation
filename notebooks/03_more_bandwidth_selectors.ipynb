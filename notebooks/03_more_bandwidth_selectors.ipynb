{
 "cells": [
  {
   "cell_type": "markdown",
   "metadata": {},
   "source": [
    "**Outline:**\n",
    "* Problem: Gaussian KDE with h chosen by normal rule over-smooths, especially when more than one mode.\n",
    "    + Mention Sheather (2004) text and put an example\n",
    "* Alternative bandwidth selectors\n",
    "    + Cross-Validation (for example, LSCV or BCV). They often result in wiggly estimates!\n",
    "    + Plug-in estimators (Sheather-Jones and Improved-Sheather-Jones). Show when they really help (bimodal, for example), but also shown when they are also very wiggly! (leptokurtic, for example).\n",
    "* Some examples (when they help and when they fail) and final remarks (that SJ / ISJ are recommended)."
   ]
  }
 ],
 "metadata": {
  "kernelspec": {
   "display_name": "Python 3",
   "language": "python",
   "name": "python3"
  },
  "language_info": {
   "codemirror_mode": {
    "name": "ipython",
    "version": 3
   },
   "file_extension": ".py",
   "mimetype": "text/x-python",
   "name": "python",
   "nbconvert_exporter": "python",
   "pygments_lexer": "ipython3",
   "version": "3.7.4"
  }
 },
 "nbformat": 4,
 "nbformat_minor": 2
}
