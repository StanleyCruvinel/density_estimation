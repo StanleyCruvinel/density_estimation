{
 "cells": [
  {
   "cell_type": "code",
   "execution_count": 1,
   "metadata": {},
   "outputs": [],
   "source": [
    "import numpy as np\n",
    "from scipy import stats"
   ]
  },
  {
   "cell_type": "code",
   "execution_count": 2,
   "metadata": {},
   "outputs": [],
   "source": [
    "def phi6(x):\n",
    "    return (x ** 6 - 15 * x ** 4 + 45 * x ** 2 - 15) * stats.norm.pdf(x)\n",
    "\n",
    "def phi4(x):\n",
    "    return (x ** 4 - 6 * x ** 2 + 3) * stats.norm.pdf(x)\n",
    "\n",
    "def new_sum(x, fun, den):\n",
    "    out = 0\n",
    "    for i in range(len(x)):\n",
    "        out += np.sum(fun((x[i] - x) / den))\n",
    "    return out\n",
    "\n",
    "def old_sum(x, fun, den):\n",
    "    x_len = len(x)\n",
    "    x_pairwise_diff = x - x[:, None]\n",
    "    out = np.sum(np.sum(fun(x_pairwise_diff / den), 0))\n",
    "    return out"
   ]
  },
  {
   "cell_type": "code",
   "execution_count": 3,
   "metadata": {},
   "outputs": [],
   "source": [
    "x = np.random.normal(size=1000)\n",
    "x_len = len(x)\n",
    "x_std = np.std(x)\n",
    "x_iqr = stats.iqr(x)\n",
    "a = 0.92 * x_iqr * x_len ** (-1 / 7)"
   ]
  },
  {
   "cell_type": "code",
   "execution_count": 4,
   "metadata": {},
   "outputs": [],
   "source": [
    "out1 = new_sum(x, phi6, a)\n",
    "out2 = old_sum(x, phi6, a)"
   ]
  },
  {
   "cell_type": "code",
   "execution_count": 5,
   "metadata": {},
   "outputs": [
    {
     "name": "stdout",
     "output_type": "stream",
     "text": [
      "-6375.084467946868\n",
      "-6375.0844679468655\n"
     ]
    }
   ],
   "source": [
    "print(out1)\n",
    "print(out2)"
   ]
  }
 ],
 "metadata": {
  "kernelspec": {
   "display_name": "Python 3",
   "language": "python",
   "name": "python3"
  },
  "language_info": {
   "codemirror_mode": {
    "name": "ipython",
    "version": 3
   },
   "file_extension": ".py",
   "mimetype": "text/x-python",
   "name": "python",
   "nbconvert_exporter": "python",
   "pygments_lexer": "ipython3",
   "version": "3.7.4"
  }
 },
 "nbformat": 4,
 "nbformat_minor": 2
}
