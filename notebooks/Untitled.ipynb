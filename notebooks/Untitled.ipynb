{
 "cells": [
  {
   "cell_type": "code",
   "execution_count": 2,
   "metadata": {},
   "outputs": [],
   "source": [
    "import numpy as np\n",
    "def pdist2(pts):\n",
    "    return np.sqrt(np.sum((pts[None, :] - pts[:, None])**2, -1))"
   ]
  },
  {
   "cell_type": "code",
   "execution_count": 4,
   "metadata": {},
   "outputs": [
    {
     "data": {
      "text/plain": [
       "array([[0.        , 0.88890051, 0.34905892, ..., 0.26268304, 0.44801805,\n",
       "        0.87544759],\n",
       "       [0.88890051, 0.        , 0.66615655, ..., 0.71528135, 0.85372069,\n",
       "        0.07771004],\n",
       "       [0.34905892, 0.66615655, 0.        , ..., 0.08650578, 0.22602753,\n",
       "        0.68089479],\n",
       "       ...,\n",
       "       [0.26268304, 0.71528135, 0.08650578, ..., 0.        , 0.2522332 ,\n",
       "        0.72185228],\n",
       "       [0.44801805, 0.85372069, 0.22602753, ..., 0.2522332 , 0.        ,\n",
       "        0.87991487],\n",
       "       [0.87544759, 0.07771004, 0.68089479, ..., 0.72185228, 0.87991487,\n",
       "        0.        ]])"
      ]
     },
     "execution_count": 4,
     "metadata": {},
     "output_type": "execute_result"
    }
   ],
   "source": [
    "pts = np.random.random((1000, 2))\n",
    "pdist2(pts)"
   ]
  }
 ],
 "metadata": {
  "kernelspec": {
   "display_name": "Python 3",
   "language": "python",
   "name": "python3"
  },
  "language_info": {
   "codemirror_mode": {
    "name": "ipython",
    "version": 3
   },
   "file_extension": ".py",
   "mimetype": "text/x-python",
   "name": "python",
   "nbconvert_exporter": "python",
   "pygments_lexer": "ipython3",
   "version": "3.7.4"
  }
 },
 "nbformat": 4,
 "nbformat_minor": 2
}
