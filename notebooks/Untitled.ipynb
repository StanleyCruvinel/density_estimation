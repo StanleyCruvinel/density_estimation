{
 "cells": [
  {
   "cell_type": "code",
   "execution_count": 1,
   "metadata": {},
   "outputs": [],
   "source": [
    "import numpy as np\n",
    "from scipy import stats\n",
    "from matplotlib import pyplot as plt\n",
    "from timeit import default_timer as timer\n",
    "\n",
    "def iterator(f, loops=10, **kwargs):\n",
    "    start = timer()\n",
    "    for i in range(0, loops):\n",
    "        f(**kwargs)\n",
    "    end = timer()\n",
    "    return ((end - start) / loops)\n",
    "\n",
    "def product(matrix):\n",
    "    length = matrix.shape[0]\n",
    "    ones = np.ones((1, length))\n",
    "    return np.dot(np.dot(ones, stats.norm.pdf(matrix)), ones.T)[0, 0]\n",
    "\n",
    "def sum_(matrix):\n",
    "    return np.sum(np.sum(stats.norm.pdf(matrix), 0))"
   ]
  },
  {
   "cell_type": "code",
   "execution_count": 2,
   "metadata": {},
   "outputs": [
    {
     "name": "stdout",
     "output_type": "stream",
     "text": [
      "Size 500 done.\n",
      "Size 1000 done.\n",
      "Size 2000 done.\n",
      "Size 3000 done.\n",
      "Size 4000 done.\n",
      "Size 5000 done.\n",
      "Size 10000 done.\n"
     ]
    }
   ],
   "source": [
    "np.random.seed(1234)\n",
    "sizes = [500, 1000, 2000, 3000, 4000, 5000, 10000]\n",
    "\n",
    "time_product = []\n",
    "time_sum = []\n",
    "\n",
    "for i in range(0, len(sizes)):\n",
    "    \n",
    "    x_len = sizes[i]\n",
    "    x = np.random.normal(size=x_len)\n",
    "    x_matrix = np.tile(x, (x_len, 1))\n",
    "    x_pairwise_diff = x_matrix - x_matrix.T\n",
    "\n",
    "    time_product.append(iterator(product, matrix=x_pairwise_diff))\n",
    "    time_sum.append(iterator(sum_, matrix=x_pairwise_diff))\n",
    "    \n",
    "    print(\"Size \" + str(x_len) + \" done.\")"
   ]
  },
  {
   "cell_type": "code",
   "execution_count": 7,
   "metadata": {},
   "outputs": [
    {
     "data": {
      "image/png": "[encoded data removed]",
      "text/plain": [
       "<Figure size 432x288 with 1 Axes>"
      ]
     },
     "metadata": {
      "needs_background": "light"
     },
     "output_type": "display_data"
    }
   ],
   "source": [
    "plt.plot(sizes, time_product, label=\"Product method\")\n",
    "plt.plot(sizes, time_sum, label=\"Sum method\")\n",
    "\n",
    "plt.legend()\n",
    "plt.show()"
   ]
  },
  {
   "cell_type": "code",
   "execution_count": 8,
   "metadata": {},
   "outputs": [
    {
     "data": {
      "text/plain": [
       "array([0.99657081, 1.01318865, 1.01556592, 1.07611122, 0.9824626 ,\n",
       "       1.16629804, 1.01566946])"
      ]
     },
     "execution_count": 8,
     "metadata": {},
     "output_type": "execute_result"
    }
   ],
   "source": [
    "np.array(time_sum) / np.array(time_product)"
   ]
  }
 ],
 "metadata": {
  "kernelspec": {
   "display_name": "Python 3",
   "language": "python",
   "name": "python3"
  },
  "language_info": {
   "codemirror_mode": {
    "name": "ipython",
    "version": 3
   },
   "file_extension": ".py",
   "mimetype": "text/x-python",
   "name": "python",
   "nbconvert_exporter": "python",
   "pygments_lexer": "ipython3",
   "version": "3.7.4"
  }
 },
 "nbformat": 4,
 "nbformat_minor": 2
}
