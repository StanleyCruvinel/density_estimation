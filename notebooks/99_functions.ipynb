{
 "cells": [
  {
   "cell_type": "markdown",
   "metadata": {},
   "source": [
    "# Functions\n",
    "\n",
    "In this notebook I write the final versions of the functions I am using in the simulation. They are created as if they were to be used in a package."
   ]
  },
  {
   "cell_type": "markdown",
   "metadata": {},
   "source": [
    "## Module importing"
   ]
  },
  {
   "cell_type": "code",
   "execution_count": 1,
   "metadata": {},
   "outputs": [],
   "source": [
    "import numpy as np\n",
    "import statsmodels.api as sm\n",
    "from scipy import stats\n",
    "from scipy.signal import gaussian, convolve\n",
    "from scipy.fftpack import fft, ifft\n",
    "from scipy.optimize import minimize, fsolve\n",
    "from scipy.integrate import quad"
   ]
  },
  {
   "cell_type": "markdown",
   "metadata": {},
   "source": [
    "## Bandwidth selectors"
   ]
  },
  {
   "cell_type": "markdown",
   "metadata": {},
   "source": [
    "### Scott's rule\n",
    "I decide to implement the robust rule. I think it is safer.\n",
    "\n",
    "$$\n",
    "h_{\\text{Scott}} = 1.06 A N ^ {-0.2}\n",
    "$$\n",
    "\n",
    "where $A = \\min\\{\\hat{\\sigma}, \\frac{R}{1.34}\\}$ is a robust measure of the dispersion in the observations. $R$ represents the inter-quartile range, defined as\n",
    "\n",
    "$$\n",
    "R = \\underbrace{X_{([0.75N])}}_{\\text{75% quantile}} - \\underbrace{X_{([0.25N])}}_{\\text{25% quantile}}\n",
    "$$"
   ]
  },
  {
   "cell_type": "code",
   "execution_count": 2,
   "metadata": {},
   "outputs": [],
   "source": [
    "def bw_scott(x):\n",
    "    a = min(np.std(x), stats.iqr(x) / 1.34)\n",
    "    bw = 1.06 * a * len(x) ** (-0.2)\n",
    "    return bw"
   ]
  },
  {
   "cell_type": "markdown",
   "metadata": {},
   "source": [
    "### Silverman's rule\n",
    "\n",
    "Just as Scott's rule but the multiplying factor is 0.9 instead of 1.06\n",
    "\n",
    "$$\n",
    "h_{\\text{Silverman}} = 0.9 A N ^ {-0.2}\n",
    "$$"
   ]
  },
  {
   "cell_type": "code",
   "execution_count": 3,
   "metadata": {},
   "outputs": [],
   "source": [
    "def bw_silverman(x):\n",
    "    a = min(np.std(x), stats.iqr(x) / 1.34)\n",
    "    bw = 0.9 * a * len(x) ** (-0.2)\n",
    "    return bw"
   ]
  },
  {
   "cell_type": "markdown",
   "metadata": {},
   "source": [
    "### Least Squares Cross-Validation\n",
    "\n",
    "$h_{\\text{LSCV}}$ is defined as the value of $h$ that minimizes\n",
    "\n",
    "$$\n",
    "\\text{LSCV}(h) = \\int{[\\hat{f}(x; h)]^2dx} - \\frac{2}{N} \\sum_{i=1}^N{\\hat{f}_{-i}(X_i)}\n",
    "$$"
   ]
  },
  {
   "cell_type": "code",
   "execution_count": 4,
   "metadata": {},
   "outputs": [],
   "source": [
    "def _get_ise_loocv(h, x, x_min, x_max):\n",
    "    \n",
    "    \"\"\"\n",
    "    Computes the Integrated Squared Error (ISE) via Leave-One-Out Cross-Validation.\n",
    "    \n",
    "    Parameters\n",
    "    ----------\n",
    "    x : numpy array\n",
    "        1 dimensional array of sample data from the variable for which a \n",
    "        density estimate is desired.\n",
    "    h : float\n",
    "        Bandwidth (standard deviation of each Gaussian component)\n",
    "    x_min : float\n",
    "        Lower limit for the domain of the variable\n",
    "    x_max : float\n",
    "        Upper limit for the domain of the variable\n",
    "  \n",
    "    Returns\n",
    "    -------\n",
    "    lscv_error : Float, estimation of the Least Squares Cross-Validation Error.   \n",
    "    \"\"\"\n",
    "    \n",
    "    x_len = len(x)\n",
    "    \n",
    "    dens = sm.nonparametric.KDEUnivariate(x)\n",
    "    dens.fit(kernel='gau', bw=h)\n",
    "    f_squared = lambda x : dens.evaluate(x) ** 2\n",
    "    \n",
    "    # Compute first term of LSCV(h)\n",
    "    f_sq_twice_area =  2 * quad(f_squared, x_min, x_max)[0]\n",
    "    \n",
    "    # Compute second term of LSCV(h)\n",
    "    f_loocv_sum = 0\n",
    "    for i in range(x_len):\n",
    "        dens1 = sm.nonparametric.KDEUnivariate(np.delete(x, i))\n",
    "        dens1.fit(kernel='gau', bw=h)\n",
    "        f_loocv_sum += dens.evaluate(x[i])\n",
    "    f_loocv_sum *= (2 / x_len)\n",
    "\n",
    "    # LSCV(h)\n",
    "    lscv_error = np.abs(f_sq_twice_area - f_loocv_sum)\n",
    "    \n",
    "    return lscv_error\n",
    "\n",
    "def bw_lscv(x):\n",
    "    \"\"\"\n",
    "    Computes Least Squares Cross-Validation bandwidth for a Gaussian KDE\n",
    "    \n",
    "    Parameters\n",
    "    ----------\n",
    "    x : 1-D numpy array\n",
    "        1 dimensional array of sample data from the variable for which a \n",
    "        density estimate is desired.\n",
    "        \n",
    "    Returns\n",
    "    -------\n",
    "    h : float\n",
    "        Bandwidth estimated via Least Squares Cross-Validation\n",
    "    \"\"\"\n",
    "    \n",
    "    x_len = len(x)\n",
    "    x_std = np.std(x)\n",
    "    x_min = np.min(x) - 0.5 * x_std\n",
    "    x_max = np.max(x) + 0.5 * x_std   \n",
    "    \n",
    "    # Silverman's rule as initial value for h\n",
    "    a = min(x_std, stats.iqr(x) / 1.34)\n",
    "    h0 = 0.9 * a * x_len ** (-0.2)\n",
    "    \n",
    "    # h is constrained to be larger than 10**(-8)\n",
    "    constraint = ({'type':'ineq', 'fun':lambda x : x - 10 ** (-8)})\n",
    "    result = minimize(_get_ise_loocv, h0, args=(x, x_min, x_max), constraints=constraint)\n",
    "    h = result.x\n",
    "    \n",
    "    return h"
   ]
  },
  {
   "cell_type": "markdown",
   "metadata": {},
   "source": [
    "### Sheather-Jones plug-in method\n",
    "\n",
    "$h_{\\text{SJ}}$ is the solution to the equation\n",
    "\n",
    "$$\n",
    "\\left[\\frac{R(\\kappa)}{\\mu_2(\\kappa)^2\\hat{S}(g(h))} \\right] ^ {1/5} n ^{-1/5} - h = 0\n",
    "$$\n",
    "\n",
    "For a description see notebook `03_more_bandwidth_selectors`.\n"
   ]
  },
  {
   "cell_type": "code",
   "execution_count": 5,
   "metadata": {},
   "outputs": [],
   "source": [
    "def _phi6(x):\n",
    "    return (x ** 6 - 15 * x ** 4 + 45 * x ** 2 - 15) * stats.norm.pdf(x)\n",
    "\n",
    "def _phi4(x):\n",
    "    return (x ** 4 - 6 * x ** 2 + 3) * stats.norm.pdf(x)\n",
    "\n",
    "def _sj_helper(h, s_a, t_b, x_len, x_len_mult, x_pairwise_diff):\n",
    "    \"\"\"\n",
    "    Equation 12 of Sheather and Jones [1]\n",
    "    \n",
    "    References\n",
    "    ----------\n",
    "    .. [1] A reliable data-based bandwidth selection method for kernel\n",
    "        density estimation. Simon J. Sheather and Michael C. Jones.\n",
    "        Journal of the Royal Statistical Society, Series B. 1991\n",
    "    \"\"\"\n",
    "    \n",
    "    numerator = 0.375 * np.pi ** -0.5  \n",
    "    g_h = 1.357 * np.abs(s_a / t_b) ** (1 / 7) * h ** (5 / 7)\n",
    "    s_g = np.sum(np.sum(_phi4(x_pairwise_diff / g_h), 0))\n",
    "    s_g *= x_len_mult * g_h ** -5\n",
    "    \n",
    "    output = (numerator / np.abs(s_g * x_len)) ** 0.2 - h\n",
    "    \n",
    "    return output\n",
    "\n",
    "def bw_sj(x):\n",
    "    \"\"\"\n",
    "    Computes Sheather-Jones bandwidth for Gaussian KDE\n",
    "    \n",
    "    Parameters\n",
    "    ----------\n",
    "    x : numpy array\n",
    "        1 dimensional array of sample data from the variable for which a \n",
    "        density estimate is desired.  \n",
    "    Returns\n",
    "    -------\n",
    "    h : float\n",
    "        Bandwidth estimated via Least Squares Cross-Validation\n",
    "    \"\"\"\n",
    "    \n",
    "    x_len = len(x)\n",
    "    x_std = np.std(x)\n",
    "    x_iqr = stats.iqr(x)\n",
    "    \n",
    "    a = 0.92 * x_iqr * x_len ** (-1 / 7)\n",
    "    b = 0.912 * x_iqr * x_len ** (-1 / 9) \n",
    "    \n",
    "    x_len_mult = 1 / (x_len * (x_len - 1))\n",
    "    x_matrix = np.tile(x, (x_len, 1))\n",
    "    x_pairwise_diff = x_matrix - x_matrix.T\n",
    "\n",
    "    t_b = np.sum(np.sum(_phi6(x_pairwise_diff / b), 0))\n",
    "    t_b *= - x_len_mult * b ** -7\n",
    "\n",
    "    s_a = np.sum(np.sum(_phi4(x_pairwise_diff / a), 0))\n",
    "    s_a *= x_len_mult * a ** -5\n",
    "    \n",
    "    h0 = 0.9 * x_std * x_len ** (-0.2)\n",
    "    \n",
    "    result = fsolve(_sj_helper, h0, args=(s_a, t_b, x_len, x_len_mult, x_pairwise_diff))\n",
    "    return result[0]"
   ]
  },
  {
   "cell_type": "markdown",
   "metadata": {},
   "source": [
    "### Improved Sheather-Jones plug-in method\n",
    "\n",
    "The Improved Sheather-Jones bandwidth is the *typically unique* solution to the following non-linear equation:\n",
    "\n",
    "$$\n",
    "\\begin{array}{cc}\n",
    "  t = \\zeta\\gamma^{[l]}(t), & \\text{for large enough}\\ l\n",
    "\\end{array}\n",
    "$$\n",
    "\n",
    "For a description see notebook `03_more_bandwidth_selectors`."
   ]
  },
  {
   "cell_type": "code",
   "execution_count": 6,
   "metadata": {},
   "outputs": [],
   "source": [
    "def _dct1d(x):\n",
    "    \"\"\"\n",
    "    Discrete Cosine Transform in 1 Dimension\n",
    "    \n",
    "    Parameters\n",
    "    ----------\n",
    "    x : numpy array\n",
    "        1 dimensional array of values for which the \n",
    "        DCT is desired\n",
    "        \n",
    "    Returns\n",
    "    -------\n",
    "    output : DTC transformed values\n",
    "    \"\"\"\n",
    "\n",
    "    x_len = len(x)\n",
    "\n",
    "    even_increasing = np.arange(0, x_len, 2)\n",
    "    odd_decreasing = np.arange(x_len - 1, 0, -2)\n",
    "\n",
    "    x = np.concatenate((x[even_increasing], x[odd_decreasing]))\n",
    "    \n",
    "    w_1k = np.r_[1, (2 * np.exp(-(0 + 1j) * (np.arange(1, x_len)) * np.pi / (2 * x_len)))]\n",
    "    output = np.real(w_1k * fft(x))\n",
    "    \n",
    "    return output\n",
    "\n",
    "def _idct1d(x):\n",
    "    \"\"\"\n",
    "    Inverse Discrete Cosine Transform in 1 Dimension\n",
    "    \n",
    "    Parameters\n",
    "    ----------\n",
    "    x : numpy array\n",
    "        1 dimensional array of values for which the \n",
    "        IDCT is desired\n",
    "        \n",
    "    Returns\n",
    "    -------\n",
    "    output : IDCT transformed values\n",
    "    \"\"\"\n",
    "\n",
    "    x_len = len(x)\n",
    "\n",
    "    w_2k = x * np.exp((0 + 1j) * np.arange(0, x_len) * np.pi / (2 * x_len))\n",
    "    x = np.real(ifft(w_2k))\n",
    "\n",
    "    output = np.zeros(x_len)\n",
    "    output[np.arange(0, x_len, 2, dtype=int)] = x[np.arange(0, x_len / 2, dtype=int)]\n",
    "    output[np.arange(1, x_len, 2, dtype=int)] = x[np.arange(x_len - 1, (x_len / 2) - 1, -1, dtype=int)]\n",
    "\n",
    "    return output\n",
    "\n",
    "def _fixed_point(t, N, k_sq, a_sq):\n",
    "    # This implements the function t-zeta*gamma^[l](t) in 3.23\n",
    "    # To avoid prevent powers from overflowing.\n",
    "    k_sq = np.asfarray(k_sq, dtype='float')\n",
    "    a_sq = np.asfarray(a_sq, dtype='float')\n",
    "\n",
    "    l = 7\n",
    "    f = 0.5 * np.pi ** (2.0 * l) * np.sum(k_sq ** l * a_sq * np.exp(-k_sq * np.pi ** 2.0 * t))\n",
    "\n",
    "    for j in reversed(range(2, l)):\n",
    "        c1  = (1 + 0.5**(j + 0.5)) / 3.0\n",
    "        c2  = np.product(np.arange(1., 2. * j + 1., 2., dtype = 'float')) / (np.pi / 2) ** 0.5\n",
    "        t_j = np.power((c1 * c2 / (N * f)), (2 / (3 + 2 * j)))\n",
    "        f   = 0.5 * np.pi ** (2. * j) * np.sum(k_sq ** j * a_sq * np.exp(-k_sq * np.pi ** 2. * t_j) )\n",
    "\n",
    "    out = np.abs(t - (2. * N * np.pi ** 0.5 * f) ** (-0.4))\n",
    "    return out\n",
    "\n",
    "def bw_isj(x):\n",
    "    \n",
    "    x_len = len(x)\n",
    "    x_min = np.min(x)\n",
    "    x_max = np.max(x)\n",
    "    x_range = x_max - x_min\n",
    "    x_std = np.std(x)\n",
    "    \n",
    "    grid_len = 256\n",
    "    grid_min = x_min - 0.5 * x_std\n",
    "    grid_max = x_max + 0.5 * x_std\n",
    "       \n",
    "    # Relative frequency per bin\n",
    "    f, edges = np.histogram(x, bins=grid_len, range=(grid_min, grid_max))\n",
    "    f = f / x_len\n",
    "\n",
    "    # Discrete cosine transform of the data\n",
    "    a_k = _dct1d(f)\n",
    "    \n",
    "    k_sq = np.arange(1, grid_len) ** 2\n",
    "    a_sq = a_k[range(1, grid_len)] ** 2\n",
    "    \n",
    "    t = fsolve(_fixed_point, 0.02, args=(x_len, k_sq, a_sq))\n",
    "    h = t[0] ** 0.5 * x_range\n",
    "    \n",
    "    return h"
   ]
  },
  {
   "cell_type": "markdown",
   "metadata": {},
   "source": [
    "### Usable function\n",
    "\n",
    "This function is a generic to call any of the bandwidth selection methods. It includes a custom method that combines Silverman's rule with the improved Sheather-Jones, which is based on a personal interest."
   ]
  },
  {
   "cell_type": "code",
   "execution_count": 7,
   "metadata": {},
   "outputs": [],
   "source": [
    "_bw_methods = [\"scott\", \"silverman\", \"lscv\", \"sj\", \"isj\"]\n",
    "\n",
    "def select_bw_method(x, method=\"isj\"):\n",
    "    method_lower = method.lower()\n",
    "\n",
    "    if method_lower not in _bw_methods:\n",
    "        error_string = \"Unrecognized bandwidth method.\\n\"\n",
    "        error_string += f\"Input is: {method}.\\n\"\n",
    "        error_string += f\"Expected one of: {_bw_methods}.\"\n",
    "        raise ValueError(error_string)\n",
    "        \n",
    "    if method_lower == \"scott\":\n",
    "        bw = bw_scott(x)\n",
    "    elif method_lower == \"silverman\":\n",
    "        bw = bw_silverman(x)\n",
    "    elif method_lower == \"lscv\":\n",
    "        bw = bw_lscv(x)\n",
    "    elif method_lower == \"sj\":\n",
    "        bw = bw_sj(x)\n",
    "    elif method_lower == \"isj\":\n",
    "        bw = bw_isj(x)\n",
    "        \n",
    "    return bw\n",
    "\n",
    "def get_bw(x, bw):\n",
    "    if isinstance(bw, (int, float)):\n",
    "        if bw > 0:\n",
    "            return bw\n",
    "        else:\n",
    "            error_string = \"Numeric `bw` must be positive.\\n\"\n",
    "            error_string += f\"Input: {bw:.4f}.\"\n",
    "            raise ValueError(error_string)\n",
    "\n",
    "    elif isinstance(bw, str):\n",
    "        return select_bw_method(x, bw)\n",
    "    else:\n",
    "        error_string = \"Unrecognized `bw` argument.\\n\"\n",
    "        error_string += f\"Input {bw} is of type {type(bw)}.\\n\"\n",
    "        error_string += f\"Expected a positive numeric or one of the following strings: {_bw_methods}.\" \n",
    "        raise ValueError(error_string)"
   ]
  },
  {
   "cell_type": "code",
   "execution_count": 8,
   "metadata": {},
   "outputs": [
    {
     "ename": "ValueError",
     "evalue": "Unrecognized `bw` argument.\nInput [1, 2] is of type <class 'list'>.\nExpected a positive numeric or one of the following strings: ['scott', 'silverman', 'lscv', 'sj', 'isj'].",
     "output_type": "error",
     "traceback": [
      "\u001b[1;31m---------------------------------------------------------------------------\u001b[0m",
      "\u001b[1;31mValueError\u001b[0m                                Traceback (most recent call last)",
      "\u001b[1;32m<ipython-input-8-328be1e86a54>\u001b[0m in \u001b[0;36m<module>\u001b[1;34m\u001b[0m\n\u001b[0;32m      1\u001b[0m \u001b[0mx\u001b[0m \u001b[1;33m=\u001b[0m \u001b[0mnp\u001b[0m\u001b[1;33m.\u001b[0m\u001b[0mrandom\u001b[0m\u001b[1;33m.\u001b[0m\u001b[0mnormal\u001b[0m\u001b[1;33m(\u001b[0m\u001b[0msize\u001b[0m\u001b[1;33m=\u001b[0m\u001b[1;36m200\u001b[0m\u001b[1;33m)\u001b[0m\u001b[1;33m\u001b[0m\u001b[1;33m\u001b[0m\u001b[0m\n\u001b[1;32m----> 2\u001b[1;33m \u001b[0mget_bw\u001b[0m\u001b[1;33m(\u001b[0m\u001b[0mx\u001b[0m\u001b[1;33m,\u001b[0m \u001b[1;33m[\u001b[0m\u001b[1;36m1\u001b[0m\u001b[1;33m,\u001b[0m \u001b[1;36m2\u001b[0m\u001b[1;33m]\u001b[0m\u001b[1;33m)\u001b[0m\u001b[1;33m\u001b[0m\u001b[1;33m\u001b[0m\u001b[0m\n\u001b[0m",
      "\u001b[1;32m<ipython-input-7-bca866cbd117>\u001b[0m in \u001b[0;36mget_bw\u001b[1;34m(x, bw)\u001b[0m\n\u001b[0;32m     38\u001b[0m         \u001b[0merror_string\u001b[0m \u001b[1;33m+=\u001b[0m \u001b[1;34mf\"Input {bw} is of type {type(bw)}.\\n\"\u001b[0m\u001b[1;33m\u001b[0m\u001b[1;33m\u001b[0m\u001b[0m\n\u001b[0;32m     39\u001b[0m         \u001b[0merror_string\u001b[0m \u001b[1;33m+=\u001b[0m \u001b[1;34mf\"Expected a positive numeric or one of the following strings: {_bw_methods}.\"\u001b[0m\u001b[1;33m\u001b[0m\u001b[1;33m\u001b[0m\u001b[0m\n\u001b[1;32m---> 40\u001b[1;33m         \u001b[1;32mraise\u001b[0m \u001b[0mValueError\u001b[0m\u001b[1;33m(\u001b[0m\u001b[0merror_string\u001b[0m\u001b[1;33m)\u001b[0m\u001b[1;33m\u001b[0m\u001b[1;33m\u001b[0m\u001b[0m\n\u001b[0m",
      "\u001b[1;31mValueError\u001b[0m: Unrecognized `bw` argument.\nInput [1, 2] is of type <class 'list'>.\nExpected a positive numeric or one of the following strings: ['scott', 'silverman', 'lscv', 'sj', 'isj']."
     ]
    }
   ],
   "source": [
    "x = np.random.normal(size=200)\n",
    "get_bw(x, [1, 2])"
   ]
  },
  {
   "cell_type": "code",
   "execution_count": 9,
   "metadata": {},
   "outputs": [
    {
     "ename": "ValueError",
     "evalue": "Numeric `bw` must be positive.\nInput: 0.0000.",
     "output_type": "error",
     "traceback": [
      "\u001b[1;31m---------------------------------------------------------------------------\u001b[0m",
      "\u001b[1;31mValueError\u001b[0m                                Traceback (most recent call last)",
      "\u001b[1;32m<ipython-input-9-936598df6a34>\u001b[0m in \u001b[0;36m<module>\u001b[1;34m\u001b[0m\n\u001b[1;32m----> 1\u001b[1;33m \u001b[0mget_bw\u001b[0m\u001b[1;33m(\u001b[0m\u001b[0mx\u001b[0m\u001b[1;33m,\u001b[0m \u001b[1;36m0\u001b[0m\u001b[1;33m)\u001b[0m\u001b[1;33m\u001b[0m\u001b[1;33m\u001b[0m\u001b[0m\n\u001b[0m",
      "\u001b[1;32m<ipython-input-7-bca866cbd117>\u001b[0m in \u001b[0;36mget_bw\u001b[1;34m(x, bw)\u001b[0m\n\u001b[0;32m     30\u001b[0m             \u001b[0merror_string\u001b[0m \u001b[1;33m=\u001b[0m \u001b[1;34m\"Numeric `bw` must be positive.\\n\"\u001b[0m\u001b[1;33m\u001b[0m\u001b[1;33m\u001b[0m\u001b[0m\n\u001b[0;32m     31\u001b[0m             \u001b[0merror_string\u001b[0m \u001b[1;33m+=\u001b[0m \u001b[1;34mf\"Input: {bw:.4f}.\"\u001b[0m\u001b[1;33m\u001b[0m\u001b[1;33m\u001b[0m\u001b[0m\n\u001b[1;32m---> 32\u001b[1;33m             \u001b[1;32mraise\u001b[0m \u001b[0mValueError\u001b[0m\u001b[1;33m(\u001b[0m\u001b[0merror_string\u001b[0m\u001b[1;33m)\u001b[0m\u001b[1;33m\u001b[0m\u001b[1;33m\u001b[0m\u001b[0m\n\u001b[0m\u001b[0;32m     33\u001b[0m \u001b[1;33m\u001b[0m\u001b[0m\n\u001b[0;32m     34\u001b[0m     \u001b[1;32melif\u001b[0m \u001b[0misinstance\u001b[0m\u001b[1;33m(\u001b[0m\u001b[0mbw\u001b[0m\u001b[1;33m,\u001b[0m \u001b[0mstr\u001b[0m\u001b[1;33m)\u001b[0m\u001b[1;33m:\u001b[0m\u001b[1;33m\u001b[0m\u001b[1;33m\u001b[0m\u001b[0m\n",
      "\u001b[1;31mValueError\u001b[0m: Numeric `bw` must be positive.\nInput: 0.0000."
     ]
    }
   ],
   "source": [
    "get_bw(x, 0)"
   ]
  },
  {
   "cell_type": "code",
   "execution_count": 10,
   "metadata": {},
   "outputs": [
    {
     "data": {
      "text/plain": [
       "0.36830287571775217"
      ]
     },
     "execution_count": 10,
     "metadata": {},
     "output_type": "execute_result"
    }
   ],
   "source": [
    "get_bw(x, \"isj\")"
   ]
  },
  {
   "cell_type": "code",
   "execution_count": 11,
   "metadata": {},
   "outputs": [
    {
     "data": {
      "text/plain": [
       "0.37162520991589537"
      ]
     },
     "execution_count": 11,
     "metadata": {},
     "output_type": "execute_result"
    }
   ],
   "source": [
    "get_bw(x, \"Scott\")"
   ]
  }
 ],
 "metadata": {
  "kernelspec": {
   "display_name": "Python 3",
   "language": "python",
   "name": "python3"
  },
  "language_info": {
   "codemirror_mode": {
    "name": "ipython",
    "version": 3
   },
   "file_extension": ".py",
   "mimetype": "text/x-python",
   "name": "python",
   "nbconvert_exporter": "python",
   "pygments_lexer": "ipython3",
   "version": "3.7.4"
  }
 },
 "nbformat": 4,
 "nbformat_minor": 2
}
