{
 "cells": [
  {
   "cell_type": "code",
   "execution_count": 1,
   "metadata": {},
   "outputs": [
    {
     "name": "stdout",
     "output_type": "stream",
     "text": [
      "Simulation with estimator fixed_gaussian\n",
      "03-05-20 15:03:33: Simulating with `bw_name` silverman\n",
      "03-05-20 15:03:36: Simulating with `bw_name` scott\n",
      "03-05-20 15:03:39: Simulating with `bw_name` sj\n",
      "03-05-20 15:04:13: Simulating with `bw_name` isj\n"
     ]
    },
    {
     "name": "stderr",
     "output_type": "stream",
     "text": [
      "C:\\Users\\Tomi\\Desktop\\estimacion_densidad\\simulation\\density_utils.py:241: RuntimeWarning: overflow encountered in multiply\n",
      "  f = 0.5 * np.pi ** (2.0 * l) * np.sum(k_sq ** l * a_sq * np.exp(-k_sq * np.pi ** 2.0 * t))\n",
      "C:\\Users\\Tomi\\Anaconda3\\lib\\site-packages\\scipy\\optimize\\minpack.py:162: RuntimeWarning: The iteration is not making good progress, as measured by the \n",
      "  improvement from the last ten iterations.\n",
      "  warnings.warn(msg, RuntimeWarning)\n",
      "C:\\Users\\Tomi\\Anaconda3\\lib\\site-packages\\scipy\\optimize\\minpack.py:162: RuntimeWarning: The iteration is not making good progress, as measured by the \n",
      "  improvement from the last five Jacobian evaluations.\n",
      "  warnings.warn(msg, RuntimeWarning)\n",
      "C:\\Users\\Tomi\\Desktop\\estimacion_densidad\\simulation\\density_utils.py:275: RuntimeWarning: invalid value encountered in double_scalars\n",
      "  h = t[0] ** 0.5 * x_range\n",
      "C:\\Users\\Tomi\\Desktop\\estimacion_densidad\\simulation\\density_utils.py:241: RuntimeWarning: overflow encountered in double_scalars\n",
      "  f = 0.5 * np.pi ** (2.0 * l) * np.sum(k_sq ** l * a_sq * np.exp(-k_sq * np.pi ** 2.0 * t))\n"
     ]
    },
    {
     "name": "stdout",
     "output_type": "stream",
     "text": [
      "03-05-20 15:04:18: Simulating with `bw_name` experimental\n",
      "-------------------------------------------\n",
      "Simulation with estimator adaptive_gaussian\n",
      "03-05-20 15:04:23: Simulating with `bw_name` silverman\n"
     ]
    },
    {
     "name": "stderr",
     "output_type": "stream",
     "text": [
      "C:\\Users\\Tomi\\Desktop\\estimacion_densidad\\simulation\\density_utils.py:383: RuntimeWarning: divide by zero encountered in true_divide\n",
      "  adj_factor = (geom_mean / pilot_pdf) ** 0.5\n",
      "C:\\Users\\Tomi\\Desktop\\estimacion_densidad\\simulation\\density_utils.py:379: RuntimeWarning: divide by zero encountered in log\n",
      "  geom_mean = np.exp(np.mean(np.log(pdf_interp)))\n",
      "C:\\Users\\Tomi\\Desktop\\estimacion_densidad\\simulation\\density_utils.py:383: RuntimeWarning: invalid value encountered in true_divide\n",
      "  adj_factor = (geom_mean / pilot_pdf) ** 0.5\n",
      "C:\\Users\\Tomi\\Desktop\\estimacion_densidad\\simulation\\density_utils.py:411: RuntimeWarning: divide by zero encountered in true_divide\n",
      "  pdf_mat_num = np.exp(-0.5 * ((grid - grid[:, None]) / bw_adj[:, None]) ** 2) * grid_count[:, None]\n",
      "C:\\Users\\Tomi\\Desktop\\estimacion_densidad\\simulation\\density_utils.py:411: RuntimeWarning: invalid value encountered in true_divide\n",
      "  pdf_mat_num = np.exp(-0.5 * ((grid - grid[:, None]) / bw_adj[:, None]) ** 2) * grid_count[:, None]\n",
      "C:\\Users\\Tomi\\Desktop\\estimacion_densidad\\simulation\\density_utils.py:413: RuntimeWarning: invalid value encountered in true_divide\n",
      "  pdf_mat = pdf_mat_num / pdf_mat_den\n"
     ]
    },
    {
     "name": "stdout",
     "output_type": "stream",
     "text": [
      "03-05-20 15:04:36: Simulating with `bw_name` scott\n",
      "03-05-20 15:04:48: Simulating with `bw_name` sj\n"
     ]
    },
    {
     "name": "stderr",
     "output_type": "stream",
     "text": [
      "C:\\Users\\Tomi\\Desktop\\estimacion_densidad\\simulation\\density_utils.py:383: RuntimeWarning: overflow encountered in true_divide\n",
      "  adj_factor = (geom_mean / pilot_pdf) ** 0.5\n"
     ]
    },
    {
     "name": "stdout",
     "output_type": "stream",
     "text": [
      "03-05-20 15:05:22: Simulating with `bw_name` isj\n",
      "03-05-20 15:05:41: Simulating with `bw_name` experimental\n"
     ]
    },
    {
     "name": "stderr",
     "output_type": "stream",
     "text": [
      "C:\\Users\\Tomi\\Desktop\\estimacion_densidad\\simulation\\density_utils.py:241: RuntimeWarning: invalid value encountered in multiply\n",
      "  f = 0.5 * np.pi ** (2.0 * l) * np.sum(k_sq ** l * a_sq * np.exp(-k_sq * np.pi ** 2.0 * t))\n"
     ]
    },
    {
     "name": "stdout",
     "output_type": "stream",
     "text": [
      "-------------------------------------------\n",
      "Simulation with estimator mixture\n",
      "03-05-20 15:05:57: Simulating with `bw_name` mixture\n"
     ]
    },
    {
     "name": "stderr",
     "output_type": "stream",
     "text": [
      "C:\\Users\\Tomi\\Desktop\\estimacion_densidad\\simulation\\density_utils.py:612: RuntimeWarning: divide by zero encountered in true_divide\n",
      "  z_sq = ((x - mean[:, None]) ** 2) / variance[:, None]\n",
      "C:\\Users\\Tomi\\Desktop\\estimacion_densidad\\simulation\\density_utils.py:612: RuntimeWarning: invalid value encountered in true_divide\n",
      "  z_sq = ((x - mean[:, None]) ** 2) / variance[:, None]\n",
      "C:\\Users\\Tomi\\Desktop\\estimacion_densidad\\simulation\\density_utils.py:613: RuntimeWarning: divide by zero encountered in log\n",
      "  llh_matrix = -0.5 * (np.log(2 * np.pi) + z_sq) - np.log(np.sqrt(variance[:, None])) + np.log(gauss_w[:, None])\n",
      "C:\\Users\\Tomi\\Desktop\\estimacion_densidad\\simulation\\density_utils.py:613: RuntimeWarning: invalid value encountered in subtract\n",
      "  llh_matrix = -0.5 * (np.log(2 * np.pi) + z_sq) - np.log(np.sqrt(variance[:, None])) + np.log(gauss_w[:, None])\n"
     ]
    }
   ],
   "source": [
    "%run -i \"simulation.py\""
   ]
  }
 ],
 "metadata": {
  "kernelspec": {
   "display_name": "Python 3",
   "language": "python",
   "name": "python3"
  },
  "language_info": {
   "codemirror_mode": {
    "name": "ipython",
    "version": 3
   },
   "file_extension": ".py",
   "mimetype": "text/x-python",
   "name": "python",
   "nbconvert_exporter": "python",
   "pygments_lexer": "ipython3",
   "version": "3.7.4"
  }
 },
 "nbformat": 4,
 "nbformat_minor": 2
}
