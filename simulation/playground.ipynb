{
 "cells": [
  {
   "cell_type": "code",
   "execution_count": null,
   "metadata": {},
   "outputs": [],
   "source": [
    "from sim_utils import get_funcs, get_estimator_func, simulate"
   ]
  },
  {
   "cell_type": "code",
   "execution_count": null,
   "metadata": {},
   "outputs": [],
   "source": [
    "bw_name = \"isj\"\n",
    "pdf_name = \"gaussian_mix_1\"\n",
    "estimator_name = \"fixed_gaussian\"\n",
    "rvs_func, pdf_func = get_funcs(\"gaussian\", mean = [0, 2], sd = [1, 5])\n",
    "estimator = get_estimator_func(bw = bw_name)\n",
    "sizes = [500, 1000, 5000, 10000]\n",
    "niter = 10"
   ]
  },
  {
   "cell_type": "code",
   "execution_count": null,
   "metadata": {},
   "outputs": [],
   "source": [
    "df = simulate(rvs_func, pdf_func, pdf_name, estimator, estimator_name, bw_name, sizes, niter)"
   ]
  },
  {
   "cell_type": "code",
   "execution_count": null,
   "metadata": {},
   "outputs": [],
   "source": [
    "df"
   ]
  }
 ],
 "metadata": {
  "kernelspec": {
   "display_name": "Python 3",
   "language": "python",
   "name": "python3"
  },
  "language_info": {
   "codemirror_mode": {
    "name": "ipython",
    "version": 3
   },
   "file_extension": ".py",
   "mimetype": "text/x-python",
   "name": "python",
   "nbconvert_exporter": "python",
   "pygments_lexer": "ipython3",
   "version": "3.7.4"
  }
 },
 "nbformat": 4,
 "nbformat_minor": 2
}
