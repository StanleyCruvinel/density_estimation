{
 "cells": [
  {
   "cell_type": "markdown",
   "metadata": {},
   "source": [
    "Here I try to understand what is doing the KDE function in faststats`."
   ]
  },
  {
   "cell_type": "code",
   "execution_count": 1,
   "metadata": {},
   "outputs": [],
   "source": [
    "import numpy as np\n",
    "from scipy.sparse import coo_matrix\n",
    "from scipy.signal import convolve2d, convolve, gaussian\n",
    "from matplotlib import pyplot as plt"
   ]
  },
  {
   "cell_type": "code",
   "execution_count": 2,
   "metadata": {},
   "outputs": [],
   "source": [
    "xin = np.random.normal(size=1000)\n",
    "gridsize = 200\n",
    "weights = None\n",
    "extents = None\n",
    "adjust = 1."
   ]
  },
  {
   "cell_type": "code",
   "execution_count": 3,
   "metadata": {},
   "outputs": [],
   "source": [
    "# Variable check\n",
    "x = np.squeeze(np.asarray(xin))\n",
    "\n",
    "# Default extents are the extent of the data\n",
    "if extents is None:\n",
    "    xmin, xmax = x.min(), x.max()\n",
    "else:\n",
    "    xmin, xmax = map(float, extents)\n",
    "    x = x[(x <= xmax) & (x >= xmin)]\n",
    "\n",
    "n = x.size"
   ]
  },
  {
   "cell_type": "code",
   "execution_count": 4,
   "metadata": {},
   "outputs": [],
   "source": [
    "if weights is None:\n",
    "    # Default: Weight all points equally\n",
    "    weights = np.ones(n)\n",
    "else:\n",
    "    weights = np.squeeze(np.asarray(weights))\n",
    "    if weights.size != x.size:\n",
    "        raise ValueError('Input weights must be an array of the same size as input x & y arrays!')"
   ]
  },
  {
   "cell_type": "code",
   "execution_count": 5,
   "metadata": {},
   "outputs": [],
   "source": [
    "# Optimize gridsize ------------------------------------------------------\n",
    "# Make grid and discretize the data and round it to the next power of 2\n",
    "# to optimize with the fft usage\n",
    "if gridsize is None:\n",
    "    gridsize = np.max((len(x), 512.))\n",
    "gridsize = 2 ** np.ceil(np.log2(gridsize))  # round to next power of 2\n",
    "\n",
    "nx = int(gridsize)"
   ]
  },
  {
   "cell_type": "code",
   "execution_count": 63,
   "metadata": {},
   "outputs": [],
   "source": [
    "# Make the sparse 2d-histogram -------------------------------------------\n",
    "dx = (xmax - xmin) / (nx - 1) # (max - min) / 255\n",
    "\n",
    "# Basically, this is just doing what np.digitize does with one less copy\n",
    "# xyi contains the bins of each point as a 2d array [(xi,yi)]\n",
    "\n",
    "# numpy.digitize: Return the indices of the bins to which each value in input array belongs.\n",
    "xyi = x - xmin\n",
    "xyi /= dx\n",
    "xyi = np.floor(xyi)\n",
    "xyi = np.vstack((xyi, np.zeros(n, dtype=int))) # (2, 1000) array where one row is all zeros.\n",
    "\n",
    "# np.sort(xyi[0])"
   ]
  },
  {
   "cell_type": "code",
   "execution_count": 57,
   "metadata": {},
   "outputs": [],
   "source": [
    "# Next, make a 2D histogram of x & y.\n",
    "# Exploit a sparse coo_matrix avoiding np.histogram2d due to excessive\n",
    "# memory usage with many points\n",
    "grid = coo_matrix((weights, xyi), shape=(int(nx), 1)).toarray() # bin counts. length 256."
   ]
  },
  {
   "cell_type": "code",
   "execution_count": 58,
   "metadata": {},
   "outputs": [],
   "source": [
    "# Kernel Preliminary Calculations ---------------------------------------\n",
    "# std_x = np.std(xyi[0]) # approx 36.9. What is the meaning of this?\n",
    "# std_x ~ np.std(x) / dx\n",
    "# Entonces el std_x a utilizar deberia ser `np.std(x) / dx` en vez del np.std(xyi[0])\n",
    "# ... ahí es como que tiene mas sentido\n",
    "\n",
    "std_x = np.std(x) / dx\n",
    "\n",
    "# std_x is not the std of the original values, it is the standard deviations of the bin memberships.\n",
    "# ....\n",
    "\n",
    "# Scaling factor for bandwidth\n",
    "scotts_factor = n ** (-1. / 5.) * adjust  # For n ** (-1. / (d + 4))"
   ]
  },
  {
   "cell_type": "code",
   "execution_count": 59,
   "metadata": {},
   "outputs": [],
   "source": [
    "# Make the gaussian kernel ---------------------------------------------\n",
    "\n",
    "# First, determine the bandwidth using Scott's rule\n",
    "# (note that Silvermann's rule gives the # same value for 2d datasets)\n",
    "kern_nx = int(np.round(scotts_factor * 2 * np.pi * std_x)) # 58. What does it mean?\n",
    "\n",
    "# Then evaluate the gaussian function on the kernel grid\n",
    "kernel = np.reshape(gaussian(kern_nx, scotts_factor * std_x), (kern_nx, 1)) # kernel has length `kern_nx`.\n",
    "\n",
    "# kernel /= kernel.sum()\n",
    "\n",
    "# scotts_factor is not technically the Scott's factor, it needs to be multiplied by `std_x`."
   ]
  },
  {
   "cell_type": "code",
   "execution_count": 60,
   "metadata": {},
   "outputs": [],
   "source": [
    "# ---- Produce the kernel density estimate --------------------------------\n",
    "\n",
    "# Convolve the histogram with the gaussian kernel\n",
    "# use symmetric padding to correct for data boundaries in the kde\n",
    "npad = np.min((nx, 2 * kern_nx)) # npad is a heuristic\n",
    "grid = np.vstack([grid[npad: 0: -1], grid, grid[nx: nx - npad: -1]]) # len(grid) > 512 or previously used power of two...\n",
    "grid = convolve(grid, kernel, mode='same')[npad: npad + nx]\n",
    "\n",
    "# If len(grid) is not a power of two because of the reflection... do we still have speed-up with the convolution?"
   ]
  },
  {
   "cell_type": "code",
   "execution_count": 61,
   "metadata": {},
   "outputs": [],
   "source": [
    "# Normalization factor to divide result by so that units are in the same\n",
    "# units as scipy.stats.kde.gaussian_kde's output.\n",
    "\n",
    "norm_factor = 2 * np.pi * std_x * std_x * scotts_factor ** 2\n",
    "norm_factor = n * dx * np.sqrt(norm_factor)\n",
    "\n",
    "# Normalize the result\n",
    "grid /= norm_factor\n",
    "\n",
    "xgrid = np.linspace(xmin, xmax, num = len(grid))"
   ]
  },
  {
   "cell_type": "code",
   "execution_count": 62,
   "metadata": {},
   "outputs": [
    {
     "data": {
      "image/png": "[encoded data removed]",
      "text/plain": [
       "<Figure size 432x288 with 1 Axes>"
      ]
     },
     "metadata": {
      "needs_background": "light"
     },
     "output_type": "display_data"
    }
   ],
   "source": [
    "plt.plot(xgrid, grid)\n",
    "plt.show()"
   ]
  },
  {
   "cell_type": "code",
   "execution_count": null,
   "metadata": {},
   "outputs": [],
   "source": []
  }
 ],
 "metadata": {
  "kernelspec": {
   "display_name": "Python 3",
   "language": "python",
   "name": "python3"
  },
  "language_info": {
   "codemirror_mode": {
    "name": "ipython",
    "version": 3
   },
   "file_extension": ".py",
   "mimetype": "text/x-python",
   "name": "python",
   "nbconvert_exporter": "python",
   "pygments_lexer": "ipython3",
   "version": "3.7.4"
  }
 },
 "nbformat": 4,
 "nbformat_minor": 2
}
